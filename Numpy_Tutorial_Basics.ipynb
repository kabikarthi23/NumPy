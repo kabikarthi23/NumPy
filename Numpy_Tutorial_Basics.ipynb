{
 "cells": [
  {
   "cell_type": "markdown",
   "metadata": {},
   "source": [
    "##### Import NumPy"
   ]
  },
  {
   "cell_type": "code",
   "execution_count": 1,
   "metadata": {},
   "outputs": [],
   "source": [
    "import numpy as np"
   ]
  },
  {
   "cell_type": "markdown",
   "metadata": {},
   "source": [
    "##### Creating 1D,2D,3D arrays and performing basic functions"
   ]
  },
  {
   "cell_type": "code",
   "execution_count": 3,
   "metadata": {},
   "outputs": [
    {
     "name": "stdout",
     "output_type": "stream",
     "text": [
      "The Array :  [1 2 3 4]\n",
      "The Dimension of a :  1\n",
      "The Shape of a :  (4,)\n",
      "The Data Type of a :  int32\n",
      "The itemsize :  4\n",
      "The size of the array :  4\n",
      "The bytes of array :  16\n"
     ]
    }
   ],
   "source": [
    "#Creating a 1D array\n",
    "a = np.array([1,2,3,4])\n",
    "print(\"The Array : \",a)\n",
    "print(\"The Dimension of a : \",a.ndim)\n",
    "print(\"The Shape of a : \",a.shape)\n",
    "print(\"The Data Type of a : \",a.dtype)\n",
    "print(\"The itemsize : \",a.itemsize)\n",
    "print(\"The size of the array : \",a.size)\n",
    "print(\"The bytes of array : \",a.nbytes)"
   ]
  },
  {
   "cell_type": "code",
   "execution_count": 33,
   "metadata": {},
   "outputs": [
    {
     "name": "stdout",
     "output_type": "stream",
     "text": [
      "The Array :  [[1 2 3 4]\n",
      " [5 6 7 8]]\n",
      "The Dimension of b :  2\n",
      "The Shape of b :  (2, 4)\n",
      "The Data Type of b :  int16\n",
      "The itemsize :  2\n",
      "The size of the array :  8\n",
      "The bytes of array :  16\n"
     ]
    }
   ],
   "source": [
    "#Creating a 2D array\n",
    "b = np.array([[1,2,3,4],[5,6,7,8]],dtype=\"int16\")\n",
    "print(\"The Array : \",b)\n",
    "print(\"The Dimension of b : \",b.ndim)\n",
    "print(\"The Shape of b : \",b.shape)\n",
    "print(\"The Data Type of b : \",b.dtype)\n",
    "print(\"The itemsize : \",b.itemsize)\n",
    "print(\"The size of the array : \",b.size)\n",
    "print(\"The bytes of array : \",b.nbytes)"
   ]
  },
  {
   "cell_type": "code",
   "execution_count": 34,
   "metadata": {},
   "outputs": [
    {
     "name": "stdout",
     "output_type": "stream",
     "text": [
      "The Array :  [[[1 2 3 4]\n",
      "  [5 6 7 8]]\n",
      "\n",
      " [[8 7 6 5]\n",
      "  [4 3 2 1]]]\n",
      "The Dimension of c :  3\n",
      "The Shape of c :  (2, 2, 4)\n",
      "The Data Type of c :  int32\n",
      "The itemsize :  4\n",
      "The size of the array :  16\n",
      "The bytes of array :  64\n"
     ]
    }
   ],
   "source": [
    "#Creating a 3D array\n",
    "c = np.array([[[1,2,3,4],[5,6,7,8]],[[8,7,6,5],[4,3,2,1]]])\n",
    "print(\"The Array : \",c)\n",
    "print(\"The Dimension of c : \",c.ndim)\n",
    "print(\"The Shape of c : \",c.shape)\n",
    "print(\"The Data Type of c : \",c.dtype)\n",
    "print(\"The itemsize : \",c.itemsize)\n",
    "print(\"The size of the array : \",c.size)\n",
    "print(\"The bytes of array : \",c.nbytes)"
   ]
  },
  {
   "cell_type": "markdown",
   "metadata": {},
   "source": [
    "##### Workout Problems"
   ]
  },
  {
   "cell_type": "code",
   "execution_count": 35,
   "metadata": {},
   "outputs": [
    {
     "data": {
      "text/plain": [
       "array([[0., 0., 0., 0., 0.],\n",
       "       [0., 1., 1., 1., 0.],\n",
       "       [0., 1., 9., 1., 0.],\n",
       "       [0., 1., 1., 1., 0.],\n",
       "       [0., 0., 0., 0., 0.]])"
      ]
     },
     "execution_count": 35,
     "metadata": {},
     "output_type": "execute_result"
    }
   ],
   "source": [
    "result = np.zeros((5,5))\n",
    "result\n",
    "\n",
    "one = np.ones((3,3))\n",
    "one\n",
    "\n",
    "one[1,1] = 9\n",
    "one\n",
    "\n",
    "result[1:-1,1:-1] = one\n",
    "result"
   ]
  },
  {
   "cell_type": "code",
   "execution_count": 36,
   "metadata": {},
   "outputs": [
    {
     "name": "stdout",
     "output_type": "stream",
     "text": [
      "[[0. 0. 0. 0.]\n",
      " [0. 0. 0. 0.]\n",
      " [0. 0. 0. 0.]]\n",
      "The Memory Consumption of the array :  96\n"
     ]
    }
   ],
   "source": [
    "#Memory Consumption\n",
    "arr = np.zeros((3,4))\n",
    "print(arr)\n",
    "memory = arr.nbytes\n",
    "print(\"The Memory Consumption of the array : \",memory)"
   ]
  },
  {
   "cell_type": "code",
   "execution_count": 37,
   "metadata": {},
   "outputs": [
    {
     "name": "stdout",
     "output_type": "stream",
     "text": [
      "Original Array :\n",
      " [[1. 1. 1. 1. 1.]\n",
      " [1. 1. 1. 1. 1.]]\n",
      "Reshaped Array : \n",
      " [[1. 1.]\n",
      " [1. 1.]\n",
      " [1. 1.]\n",
      " [1. 1.]\n",
      " [1. 1.]]\n"
     ]
    }
   ],
   "source": [
    "#Reshape and Dimension\n",
    "arr2 = np.ones((2,5))\n",
    "print(\"Original Array :\\n\",arr2)\n",
    "reshaped_arr2 = np.reshape(arr2,(5,2))\n",
    "print(\"Reshaped Array : \\n\",reshaped_arr2)"
   ]
  },
  {
   "cell_type": "code",
   "execution_count": 38,
   "metadata": {},
   "outputs": [
    {
     "name": "stdout",
     "output_type": "stream",
     "text": [
      "Random array from Standard Normal Distribution:\n",
      "[[-0.10185451  2.16839393  1.45909459]\n",
      " [ 0.05809098  0.80218878 -0.20523954]\n",
      " [ 0.84894806  0.89240041  0.62035379]]\n",
      "Random array from interval(0,1): \n",
      "[[0.11672586 0.06318775 0.57704457]\n",
      " [0.4946289  0.93301483 0.40570249]\n",
      " [0.98357855 0.72733901 0.16913184]]\n",
      "Random array from integers: \n",
      "[[6 5 4 3 5]\n",
      " [1 6 5 6 9]\n",
      " [1 3 0 9 7]\n",
      " [8 5 7 1 8]\n",
      " [5 2 5 4 8]]\n"
     ]
    }
   ],
   "source": [
    "#Array with Random Data \n",
    "\n",
    "#Standard Normal Distribution\n",
    "random_array1 = np.random.normal(0,1,size=(3,3))\n",
    "print(\"Random array from Standard Normal Distribution:\")\n",
    "print(random_array1)\n",
    "\n",
    "#Random Values\n",
    "random_array2 = np.random.rand(3,3)\n",
    "print(\"Random array from interval(0,1): \")\n",
    "print(random_array2)\n",
    "\n",
    "#Random Integers\n",
    "random_array3 = np.random.randint(0,10,size = (5,5))\n",
    "print(\"Random array from integers: \")\n",
    "print(random_array3)\n"
   ]
  },
  {
   "cell_type": "code",
   "execution_count": 39,
   "metadata": {},
   "outputs": [
    {
     "name": "stdout",
     "output_type": "stream",
     "text": [
      "Full Array: \n",
      " [[23 23 23 23]\n",
      " [23 23 23 23]\n",
      " [23 23 23 23]\n",
      " [23 23 23 23]]\n"
     ]
    }
   ],
   "source": [
    "#Creating Full Array\n",
    "arr3 = np.full((4,4),23)\n",
    "print(\"Full Array: \\n\",arr3)"
   ]
  },
  {
   "cell_type": "code",
   "execution_count": 40,
   "metadata": {},
   "outputs": [
    {
     "name": "stdout",
     "output_type": "stream",
     "text": [
      "[[1. 1. 1.]\n",
      " [1. 1. 1.]\n",
      " [1. 1. 1.]]\n"
     ]
    }
   ],
   "source": [
    "#Operations with Ones and Zeros\n",
    "array_1 = np.zeros((3,3))\n",
    "array_2 = np.ones((3,3))\n",
    "result = np.add(array_1 , array_2)\n",
    "print(result)"
   ]
  },
  {
   "cell_type": "code",
   "execution_count": 68,
   "metadata": {},
   "outputs": [
    {
     "name": "stdout",
     "output_type": "stream",
     "text": [
      "[1 2 3 4 5 6 7 8 9]\n",
      "[[0. 0. 0.]\n",
      " [0. 0. 0.]\n",
      " [0. 0. 0.]]\n",
      "[[1.2 1.2 1.2]\n",
      " [1.2 1.2 1.2]]\n",
      "[6 3 8 3 3]\n",
      "[1.  1.5 2.  2.5 3.  3.5 4.  4.5 5. ]\n",
      "[[0 1 2]\n",
      " [3 4 5]]\n",
      "Third element of 1D array:  3\n",
      "Last element of 1D array:  5\n",
      "First column of 2D array:  [1 5]\n",
      "Second row of 2D array:  [5 6 7 8]\n",
      "The sum of the array:  15\n",
      "The mean of the array:  3.0\n",
      "The product of two 1D arrays:  [ 5 12 21 32]\n",
      "The dot product of two arrays:  70\n",
      "The maximum value of the array:  50\n",
      "Index of the maximum value:  4\n"
     ]
    }
   ],
   "source": [
    "#1D array with range 1 to 10\n",
    "a = np.arange(1,10)\n",
    "print(a)\n",
    "\n",
    "#3x3 zero array \n",
    "b = np.zeros((3,3))\n",
    "print(b)\n",
    "\n",
    "#2x3 array with float 1.2\n",
    "c = np.full((2,3),1.2)\n",
    "print(c)\n",
    "\n",
    "#array with random integers\n",
    "d = np.random.randint(1,10,size = 5)\n",
    "print(d)\n",
    "\n",
    "#array of even spaced integers\n",
    "e = np.arange(1,5.5,0.5)\n",
    "print(e)\n",
    "\n",
    "#reshaping 1D array into 2D\n",
    "f = np.array([0,1,2,3,4,5])\n",
    "reshaped_f = f.reshape((2,3))\n",
    "print(reshaped_f)\n",
    "\n",
    "#accessing elements\n",
    "g = np.array([1,2,3,4,5])\n",
    "h = np.array([[1,2,3,4],[5,6,7,8]])\n",
    "print(\"Third element of 1D array: \",g[2])\n",
    "print(\"Last element of 1D array: \",g[len(g)-1])\n",
    "print(\"First column of 2D array: \",h[:,0])\n",
    "print(\"Second row of 2D array: \",h[1,:])\n",
    "\n",
    "#sum and mean of 1D array\n",
    "i = np.array([1,2,3,4,5])\n",
    "print(\"The sum of the array: \",np.sum(i))\n",
    "print(\"The mean of the array: \",np.mean(i))\n",
    "\n",
    "#element-wise and dot product of 2 1D arrays\n",
    "j = np.array([1,2,3,4])\n",
    "k = np.array([5,6,7,8])\n",
    "product = j*k\n",
    "print(\"The product of two 1D arrays: \",product)\n",
    "dot_product = np.dot(j,k)\n",
    "print(\"The dot product of two arrays: \",dot_product)\n",
    "\n",
    "#max value and its index in 1D array\n",
    "l = np.array([10,20,30,40,50,24,43])\n",
    "m = np.max(l)\n",
    "n = np.argmax(l)\n",
    "print(\"The maximum value of the array: \",m)\n",
    "print(\"Index of the maximum value: \",n)\n",
    "\n"
   ]
  },
  {
   "cell_type": "markdown",
   "metadata": {},
   "source": [
    "##### Copy and View"
   ]
  },
  {
   "cell_type": "code",
   "execution_count": 72,
   "metadata": {},
   "outputs": [
    {
     "name": "stdout",
     "output_type": "stream",
     "text": [
      "None\n",
      "[ 1  2  3  4 55]\n",
      "[ 1  2  3  4 55] [11  2  3  4  5] [ 1  2  3  4 55]\n",
      "[[[[[1 2 3 4]]]]]\n",
      "shape of array : (1, 1, 1, 1, 4)\n"
     ]
    }
   ],
   "source": [
    "#copy and view\n",
    "arr = np.array([1,2,3,4,5])\n",
    "\n",
    "x = arr.copy()\n",
    "y = arr.view()\n",
    "\n",
    "x[0] = 11\n",
    "y[4] = 55\n",
    "\n",
    "\n",
    "print(x.base)\n",
    "print(y.base)\n",
    "\n",
    "print(arr,x,y)\n",
    "\n",
    "arr = np.array([1, 2, 3, 4], ndmin=5)\n",
    "\n",
    "print(arr)\n",
    "print('shape of array :', arr.shape)"
   ]
  }
 ],
 "metadata": {
  "kernelspec": {
   "display_name": "Python 3",
   "language": "python",
   "name": "python3"
  },
  "language_info": {
   "codemirror_mode": {
    "name": "ipython",
    "version": 3
   },
   "file_extension": ".py",
   "mimetype": "text/x-python",
   "name": "python",
   "nbconvert_exporter": "python",
   "pygments_lexer": "ipython3",
   "version": "3.12.0"
  }
 },
 "nbformat": 4,
 "nbformat_minor": 2
}
